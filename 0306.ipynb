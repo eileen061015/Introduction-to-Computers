{
  "nbformat": 4,
  "nbformat_minor": 0,
  "metadata": {
    "colab": {
      "provenance": [],
      "include_colab_link": true
    },
    "kernelspec": {
      "name": "python3",
      "display_name": "Python 3"
    },
    "language_info": {
      "name": "python"
    }
  },
  "cells": [
    {
      "cell_type": "markdown",
      "metadata": {
        "id": "view-in-github",
        "colab_type": "text"
      },
      "source": [
        "<a href=\"https://colab.research.google.com/github/eileen061015/Introduction-to-Computers/blob/main/0306.ipynb\" target=\"_parent\"><img src=\"https://colab.research.google.com/assets/colab-badge.svg\" alt=\"Open In Colab\"/></a>"
      ]
    },
    {
      "cell_type": "code",
      "metadata": {
        "colab": {
          "base_uri": "https://localhost:8080/"
        },
        "id": "INieCtCCLdZ-",
        "outputId": "47a4ce01-4036-4b80-bbbb-decfc455370c"
      },
      "source": [
        "print(\"Hi!\")"
      ],
      "execution_count": null,
      "outputs": [
        {
          "output_type": "stream",
          "name": "stdout",
          "text": [
            "Hi!\n"
          ]
        }
      ]
    },
    {
      "cell_type": "code",
      "source": [
        "print(\"0306\")"
      ],
      "metadata": {
        "id": "No2qU4jOJUUh",
        "colab": {
          "base_uri": "https://localhost:8080/"
        },
        "outputId": "f2d5a479-2c84-4e56-93b0-48613cf8f28b"
      },
      "execution_count": null,
      "outputs": [
        {
          "output_type": "stream",
          "name": "stdout",
          "text": [
            "0306\n"
          ]
        }
      ]
    },
    {
      "cell_type": "code",
      "source": [
        "print(\"Hi!今天是0306\")"
      ],
      "metadata": {
        "id": "_FJeWC5eJUh4",
        "colab": {
          "base_uri": "https://localhost:8080/"
        },
        "outputId": "99f2421a-70e9-4f1b-d94b-18e37b947015"
      },
      "execution_count": null,
      "outputs": [
        {
          "output_type": "stream",
          "name": "stdout",
          "text": [
            "Hi!今天是0306\n"
          ]
        }
      ]
    },
    {
      "cell_type": "code",
      "source": [],
      "metadata": {
        "id": "XyzB0PpkJU3x"
      },
      "execution_count": null,
      "outputs": []
    },
    {
      "cell_type": "code",
      "metadata": {
        "id": "vSAwOo8bSff8"
      },
      "source": [
        "x=15\n",
        "y=10\n",
        "if x>y:\n",
        "  z=x-y\n",
        "  print(\"x比y大,z\")"
      ],
      "execution_count": null,
      "outputs": []
    },
    {
      "cell_type": "markdown",
      "source": [
        "print([1,2,3]*3)"
      ],
      "metadata": {
        "id": "N5NFFBQiJVBn"
      }
    },
    {
      "cell_type": "code",
      "metadata": {
        "id": "p-HpTV2eR2Ry"
      },
      "source": [
        "score=eval(input(\"請輸入數學分數(0~100):\"))\n",
        "if score>=60:\n",
        "  print(\"及格\")\n",
        "else:\n",
        "  print(\"不及格!\")"
      ],
      "execution_count": null,
      "outputs": []
    },
    {
      "cell_type": "code",
      "metadata": {
        "id": "awqnm8cDU-wG"
      },
      "source": [
        "score=eval(input(\"請輸入數學分數(0~100):\"))\n",
        "if score>=90:\n",
        "  print(\"優等\")\n",
        "elif score<90 and score>=80:\n",
        "  print(\"甲等\")\n",
        "e"
      ],
      "execution_count": null,
      "outputs": []
    },
    {
      "cell_type": "code",
      "metadata": {
        "colab": {
          "base_uri": "https://localhost:8080/",
          "height": 199
        },
        "id": "NNIOdVY2SPAV",
        "outputId": "629d82c3-c533-45cb-eb74-df109260443b"
      },
      "source": [
        "while i<5:\n",
        "  print(i)\n",
        "  i=i+1"
      ],
      "execution_count": null,
      "outputs": [
        {
          "output_type": "error",
          "ename": "NameError",
          "evalue": "ignored",
          "traceback": [
            "\u001b[0;31m---------------------------------------------------------------------------\u001b[0m",
            "\u001b[0;31mNameError\u001b[0m                                 Traceback (most recent call last)",
            "\u001b[0;32m<ipython-input-2-28f3a3fa8c1c>\u001b[0m in \u001b[0;36m<module>\u001b[0;34m()\u001b[0m\n\u001b[0;32m----> 1\u001b[0;31m \u001b[0;32mwhile\u001b[0m \u001b[0mi\u001b[0m\u001b[0;34m<\u001b[0m\u001b[0;36m5\u001b[0m\u001b[0;34m:\u001b[0m\u001b[0;34m\u001b[0m\u001b[0;34m\u001b[0m\u001b[0m\n\u001b[0m\u001b[1;32m      2\u001b[0m   \u001b[0mprint\u001b[0m\u001b[0;34m(\u001b[0m\u001b[0mi\u001b[0m\u001b[0;34m)\u001b[0m\u001b[0;34m\u001b[0m\u001b[0;34m\u001b[0m\u001b[0m\n\u001b[1;32m      3\u001b[0m   \u001b[0mi\u001b[0m\u001b[0;34m=\u001b[0m\u001b[0mi\u001b[0m\u001b[0;34m+\u001b[0m\u001b[0;36m1\u001b[0m\u001b[0;34m\u001b[0m\u001b[0;34m\u001b[0m\u001b[0m\n",
            "\u001b[0;31mNameError\u001b[0m: name 'i' is not defined"
          ]
        }
      ]
    },
    {
      "cell_type": "code",
      "metadata": {
        "id": "_PA1_7bdTWVj"
      },
      "source": [
        "answer=input(\"請輸入[快樂]的英文:\")\n",
        "while answer.upper()!=\"HAPPY\":\n",
        "  answer=input(\"答錯了,請重新輸入[快樂]的英文:\")\n",
        "else:\n",
        "  print(\"答對了!\")  "
      ],
      "execution_count": null,
      "outputs": []
    },
    {
      "cell_type": "code",
      "metadata": {
        "id": "n3-AK3udWMLj"
      },
      "source": [
        "list(range(5))"
      ],
      "execution_count": null,
      "outputs": []
    },
    {
      "cell_type": "code",
      "metadata": {
        "id": "ZKItd9cSWbZT"
      },
      "source": [
        "list(range(1,10))"
      ],
      "execution_count": null,
      "outputs": []
    },
    {
      "cell_type": "code",
      "metadata": {
        "id": "juApSvdyWjZb"
      },
      "source": [
        "list(range(10,-10,-2))"
      ],
      "execution_count": null,
      "outputs": []
    },
    {
      "cell_type": "code",
      "source": [
        "print:(\"0306\")"
      ],
      "metadata": {
        "id": "zRHByg8kJUsW"
      },
      "execution_count": null,
      "outputs": []
    },
    {
      "cell_type": "code",
      "metadata": {
        "colab": {
          "base_uri": "https://localhost:8080/"
        },
        "id": "mQfdf99kaQqh",
        "outputId": "dce4a11e-60cc-42d2-c54c-45ca272d513b"
      },
      "source": [
        "num=int(input())\n",
        "for i in range (7):\n",
        "  for j in range(7):\n",
        "   print(\"*\",end=\"\")\n",
        "  print()"
      ],
      "execution_count": null,
      "outputs": [
        {
          "output_type": "stream",
          "name": "stdout",
          "text": [
            "7\n",
            "*******\n",
            "*******\n",
            "*******\n",
            "*******\n",
            "*******\n",
            "*******\n",
            "*******\n"
          ]
        }
      ]
    },
    {
      "cell_type": "code",
      "metadata": {
        "colab": {
          "base_uri": "https://localhost:8080/"
        },
        "id": "2HQJAzU_clh6",
        "outputId": "c1b61234-1010-4e77-ba0d-96213774de80"
      },
      "source": [
        "for x in range(1,10):\n",
        "  for y in range(1,10):\n",
        "    print(x,\"*\",y,\"=\",x*y,end=\"｜\")\n",
        "    print()"
      ],
      "execution_count": null,
      "outputs": [
        {
          "output_type": "stream",
          "name": "stdout",
          "text": [
            "1 * 1 = 1｜\n",
            "1 * 2 = 2｜\n",
            "1 * 3 = 3｜\n",
            "1 * 4 = 4｜\n",
            "1 * 5 = 5｜\n",
            "1 * 6 = 6｜\n",
            "1 * 7 = 7｜\n",
            "1 * 8 = 8｜\n",
            "1 * 9 = 9｜\n",
            "2 * 1 = 2｜\n",
            "2 * 2 = 4｜\n",
            "2 * 3 = 6｜\n",
            "2 * 4 = 8｜\n",
            "2 * 5 = 10｜\n",
            "2 * 6 = 12｜\n",
            "2 * 7 = 14｜\n",
            "2 * 8 = 16｜\n",
            "2 * 9 = 18｜\n",
            "3 * 1 = 3｜\n",
            "3 * 2 = 6｜\n",
            "3 * 3 = 9｜\n",
            "3 * 4 = 12｜\n",
            "3 * 5 = 15｜\n",
            "3 * 6 = 18｜\n",
            "3 * 7 = 21｜\n",
            "3 * 8 = 24｜\n",
            "3 * 9 = 27｜\n",
            "4 * 1 = 4｜\n",
            "4 * 2 = 8｜\n",
            "4 * 3 = 12｜\n",
            "4 * 4 = 16｜\n",
            "4 * 5 = 20｜\n",
            "4 * 6 = 24｜\n",
            "4 * 7 = 28｜\n",
            "4 * 8 = 32｜\n",
            "4 * 9 = 36｜\n",
            "5 * 1 = 5｜\n",
            "5 * 2 = 10｜\n",
            "5 * 3 = 15｜\n",
            "5 * 4 = 20｜\n",
            "5 * 5 = 25｜\n",
            "5 * 6 = 30｜\n",
            "5 * 7 = 35｜\n",
            "5 * 8 = 40｜\n",
            "5 * 9 = 45｜\n",
            "6 * 1 = 6｜\n",
            "6 * 2 = 12｜\n",
            "6 * 3 = 18｜\n",
            "6 * 4 = 24｜\n",
            "6 * 5 = 30｜\n",
            "6 * 6 = 36｜\n",
            "6 * 7 = 42｜\n",
            "6 * 8 = 48｜\n",
            "6 * 9 = 54｜\n",
            "7 * 1 = 7｜\n",
            "7 * 2 = 14｜\n",
            "7 * 3 = 21｜\n",
            "7 * 4 = 28｜\n",
            "7 * 5 = 35｜\n",
            "7 * 6 = 42｜\n",
            "7 * 7 = 49｜\n",
            "7 * 8 = 56｜\n",
            "7 * 9 = 63｜\n",
            "8 * 1 = 8｜\n",
            "8 * 2 = 16｜\n",
            "8 * 3 = 24｜\n",
            "8 * 4 = 32｜\n",
            "8 * 5 = 40｜\n",
            "8 * 6 = 48｜\n",
            "8 * 7 = 56｜\n",
            "8 * 8 = 64｜\n",
            "8 * 9 = 72｜\n",
            "9 * 1 = 9｜\n",
            "9 * 2 = 18｜\n",
            "9 * 3 = 27｜\n",
            "9 * 4 = 36｜\n",
            "9 * 5 = 45｜\n",
            "9 * 6 = 54｜\n",
            "9 * 7 = 63｜\n",
            "9 * 8 = 72｜\n",
            "9 * 9 = 81｜\n"
          ]
        }
      ]
    },
    {
      "cell_type": "code",
      "source": [
        "sum=0\n",
        "i=1\n",
        "while i<=100:\n",
        "  sum=sum+i\n",
        "  i=i+1\n",
        "  print(sum)  "
      ],
      "metadata": {
        "colab": {
          "base_uri": "https://localhost:8080/"
        },
        "id": "08XIoVEBeuaK",
        "outputId": "f348d297-e882-472e-a821-58a1fd55bba4"
      },
      "execution_count": null,
      "outputs": [
        {
          "output_type": "stream",
          "name": "stdout",
          "text": [
            "1\n",
            "3\n",
            "6\n",
            "10\n",
            "15\n",
            "21\n",
            "28\n",
            "36\n",
            "45\n",
            "55\n",
            "66\n",
            "78\n",
            "91\n",
            "105\n",
            "120\n",
            "136\n",
            "153\n",
            "171\n",
            "190\n",
            "210\n",
            "231\n",
            "253\n",
            "276\n",
            "300\n",
            "325\n",
            "351\n",
            "378\n",
            "406\n",
            "435\n",
            "465\n",
            "496\n",
            "528\n",
            "561\n",
            "595\n",
            "630\n",
            "666\n",
            "703\n",
            "741\n",
            "780\n",
            "820\n",
            "861\n",
            "903\n",
            "946\n",
            "990\n",
            "1035\n",
            "1081\n",
            "1128\n",
            "1176\n",
            "1225\n",
            "1275\n",
            "1326\n",
            "1378\n",
            "1431\n",
            "1485\n",
            "1540\n",
            "1596\n",
            "1653\n",
            "1711\n",
            "1770\n",
            "1830\n",
            "1891\n",
            "1953\n",
            "2016\n",
            "2080\n",
            "2145\n",
            "2211\n",
            "2278\n",
            "2346\n",
            "2415\n",
            "2485\n",
            "2556\n",
            "2628\n",
            "2701\n",
            "2775\n",
            "2850\n",
            "2926\n",
            "3003\n",
            "3081\n",
            "3160\n",
            "3240\n",
            "3321\n",
            "3403\n",
            "3486\n",
            "3570\n",
            "3655\n",
            "3741\n",
            "3828\n",
            "3916\n",
            "4005\n",
            "4095\n",
            "4186\n",
            "4278\n",
            "4371\n",
            "4465\n",
            "4560\n",
            "4656\n",
            "4753\n",
            "4851\n",
            "4950\n",
            "5050\n"
          ]
        }
      ]
    },
    {
      "cell_type": "code",
      "source": [
        "high=int(input(\"請輸入您的身高(公分):\"))\n",
        "weight=int(input(\"請輸入您的體重(公斤):\"))\n",
        "print(\"您的BNI值為:\",weight/(high/100)**2,\"\\n\\\"提醒您,正常BNI範圍為18.5~24之間\\\"\\n\")"
      ],
      "metadata": {
        "colab": {
          "base_uri": "https://localhost:8080/"
        },
        "id": "DJ1aejQ0kzzK",
        "outputId": "b11d3a46-a773-4ce9-d9a1-0736e4db0b8e"
      },
      "execution_count": null,
      "outputs": [
        {
          "output_type": "stream",
          "name": "stdout",
          "text": [
            "請輸入您的身高(公分):150\n",
            "請輸入您的體重(公斤):52\n",
            "您的BNI值為: 23.11111111111111 \n",
            "\"提醒您,正常BNI範圍為18.5~24之間\"\n",
            "\n"
          ]
        }
      ]
    },
    {
      "cell_type": "code",
      "source": [
        "for num in range(10):\n",
        "  for i in range(num):\n",
        "    print(num,end=\"\")\n",
        "  print(\"\\n\")\n",
        "\n"
      ],
      "metadata": {
        "colab": {
          "base_uri": "https://localhost:8080/"
        },
        "id": "g4dAar-eghTx",
        "outputId": "599124c9-c3b3-45c8-b043-330ab4d39a8c"
      },
      "execution_count": null,
      "outputs": [
        {
          "output_type": "stream",
          "name": "stdout",
          "text": [
            "\n",
            "\n",
            "1\n",
            "\n",
            "22\n",
            "\n",
            "333\n",
            "\n",
            "4444\n",
            "\n",
            "55555\n",
            "\n",
            "666666\n",
            "\n",
            "7777777\n",
            "\n",
            "88888888\n",
            "\n",
            "999999999\n",
            "\n"
          ]
        }
      ]
    }
  ]
}