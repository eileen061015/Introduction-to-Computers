{
  "nbformat": 4,
  "nbformat_minor": 0,
  "metadata": {
    "colab": {
      "provenance": [],
      "authorship_tag": "ABX9TyPDf3lh5KS+EI6bXTFWKigM",
      "include_colab_link": true
    },
    "kernelspec": {
      "name": "python3",
      "display_name": "Python 3"
    },
    "language_info": {
      "name": "python"
    }
  },
  "cells": [
    {
      "cell_type": "markdown",
      "metadata": {
        "id": "view-in-github",
        "colab_type": "text"
      },
      "source": [
        "<a href=\"https://colab.research.google.com/github/eileen061015/Introduction-to-Computers/blob/main/0501.ipynb\" target=\"_parent\"><img src=\"https://colab.research.google.com/assets/colab-badge.svg\" alt=\"Open In Colab\"/></a>"
      ]
    },
    {
      "cell_type": "code",
      "execution_count": null,
      "metadata": {
        "id": "TkfDLOi3XMQa",
        "colab": {
          "base_uri": "https://localhost:8080/"
        },
        "outputId": "72d5aa9a-e7c4-4efe-ec58-7f9b8dc87631"
      },
      "outputs": [
        {
          "output_type": "stream",
          "name": "stdout",
          "text": [
            "Hello World\n"
          ]
        }
      ],
      "source": [
        "print (\"Hello World\")\n"
      ]
    },
    {
      "cell_type": "code",
      "source": [
        "print(\"請輸入華氏溫度\")"
      ],
      "metadata": {
        "colab": {
          "base_uri": "https://localhost:8080/"
        },
        "id": "Ct2ZpDLVcyQS",
        "outputId": "4530d07c-099f-49c0-cafc-e7e6068388f2"
      },
      "execution_count": null,
      "outputs": [
        {
          "output_type": "stream",
          "name": "stdout",
          "text": [
            "請輸入華氏溫度\n"
          ]
        }
      ]
    },
    {
      "cell_type": "code",
      "source": [
        "f= float(input())"
      ],
      "metadata": {
        "colab": {
          "base_uri": "https://localhost:8080/"
        },
        "id": "w8x8PSaldPaF",
        "outputId": "1db5455d-f972-4aec-c924-a8c7f1ad5b1b"
      },
      "execution_count": null,
      "outputs": [
        {
          "name": "stdout",
          "output_type": "stream",
          "text": [
            "28\n"
          ]
        }
      ]
    },
    {
      "cell_type": "code",
      "source": [
        "c= 1"
      ],
      "metadata": {
        "id": "pc0Ou2a0dbuI"
      },
      "execution_count": null,
      "outputs": []
    },
    {
      "cell_type": "code",
      "source": [
        "c= (f- 32) * 5/9"
      ],
      "metadata": {
        "id": "9QUrsXTedlkE"
      },
      "execution_count": null,
      "outputs": []
    },
    {
      "cell_type": "code",
      "source": [
        "print (c)\n",
        "    \n"
      ],
      "metadata": {
        "colab": {
          "base_uri": "https://localhost:8080/"
        },
        "id": "Uu8zqm5Cdzn2",
        "outputId": "5eef4700-f432-46a2-8085-243ce3b408fd"
      },
      "execution_count": null,
      "outputs": [
        {
          "output_type": "stream",
          "name": "stdout",
          "text": [
            "-2.2222222222222223\n"
          ]
        }
      ]
    },
    {
      "cell_type": "code",
      "source": [
        "x=int(input())"
      ],
      "metadata": {
        "id": "eD61H6lYfy-m",
        "colab": {
          "base_uri": "https://localhost:8080/"
        },
        "outputId": "c7f27b8f-d71e-4452-98b3-521ebe2f663c"
      },
      "execution_count": null,
      "outputs": [
        {
          "name": "stdout",
          "output_type": "stream",
          "text": [
            "10000\n"
          ]
        }
      ]
    },
    {
      "cell_type": "code",
      "source": [
        "print(\"請輸入本金存款：\" , x)"
      ],
      "metadata": {
        "colab": {
          "base_uri": "https://localhost:8080/"
        },
        "id": "deBIzjfj65wn",
        "outputId": "2b7dc260-9b34-45b4-ffeb-35a7b9951716"
      },
      "execution_count": null,
      "outputs": [
        {
          "output_type": "stream",
          "name": "stdout",
          "text": [
            "請輸入本金存款： 10000\n"
          ]
        }
      ]
    },
    {
      "cell_type": "code",
      "source": [
        "y= 1.02 ** 6"
      ],
      "metadata": {
        "id": "6GUV3n_17cO-"
      },
      "execution_count": null,
      "outputs": []
    },
    {
      "cell_type": "code",
      "source": [
        "print(x * y)"
      ],
      "metadata": {
        "id": "Xo-F-RUM7iMO",
        "colab": {
          "base_uri": "https://localhost:8080/"
        },
        "outputId": "6c8ae511-d5a3-4b83-ffac-f99c8398c3ac"
      },
      "execution_count": null,
      "outputs": [
        {
          "output_type": "stream",
          "name": "stdout",
          "text": [
            "11261.62419264\n"
          ]
        }
      ]
    }
  ]
}