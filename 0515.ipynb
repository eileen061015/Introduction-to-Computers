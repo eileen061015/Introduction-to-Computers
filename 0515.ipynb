{
  "nbformat": 4,
  "nbformat_minor": 0,
  "metadata": {
    "colab": {
      "provenance": [],
      "authorship_tag": "ABX9TyNi8548HKm2e68237R2GWx2",
      "include_colab_link": true
    },
    "kernelspec": {
      "name": "python3",
      "display_name": "Python 3"
    },
    "language_info": {
      "name": "python"
    }
  },
  "cells": [
    {
      "cell_type": "markdown",
      "metadata": {
        "id": "view-in-github",
        "colab_type": "text"
      },
      "source": [
        "<a href=\"https://colab.research.google.com/github/eileen061015/Introduction-to-Computers/blob/main/0515.ipynb\" target=\"_parent\"><img src=\"https://colab.research.google.com/assets/colab-badge.svg\" alt=\"Open In Colab\"/></a>"
      ]
    },
    {
      "cell_type": "code",
      "execution_count": 1,
      "metadata": {
        "id": "aCCK5VVaSRHi",
        "colab": {
          "base_uri": "https://localhost:8080/"
        },
        "outputId": "f97efb42-f132-41f0-c7fd-71dd7156e4ce"
      },
      "outputs": [
        {
          "output_type": "stream",
          "name": "stdout",
          "text": [
            "請輸入成績:75\n",
            "C\n"
          ]
        }
      ],
      "source": [
        "score=int(input(\"請輸入成績:\"))\n",
        "if score >= 90 :\n",
        "  print(\"A\")\n",
        "elif score >= 80 :\n",
        "  print(\"B\")\n",
        "elif score >= 70 :\n",
        "  print(\"C\")\n",
        "elif score >= 60 :\n",
        "  print(\"D\")\n",
        "elif score < 60:\n",
        "  print(\"E\")\n",
        "\n"
      ]
    },
    {
      "cell_type": "code",
      "source": [
        "m = int(input(\"請輸入月份：\"))\n",
        "if m ==3 or m==4 or m==5 :\n",
        "  print (\"是春天！\")\n",
        "elif m==6 or m==7 or m ==8 :\n",
        "  print(\"是夏天！\")\n",
        "elif m==9 or m==10 or m==10 :\n",
        "  print(\"是秋天！\")\n",
        "elif m==11 or m==12 or m==1 :\n",
        "  print(\"是冬天！\")\n",
        "else :\n",
        "  print(\"月份不在範圍內！\")\n"
      ],
      "metadata": {
        "colab": {
          "base_uri": "https://localhost:8080/"
        },
        "id": "XUIc09Ho9Ksc",
        "outputId": "e4ea4b23-da80-4297-86b1-7e73c4b443ee"
      },
      "execution_count": 7,
      "outputs": [
        {
          "output_type": "stream",
          "name": "stdout",
          "text": [
            "請輸入月份：14\n",
            "月份不在範圍內！\n"
          ]
        }
      ]
    },
    {
      "cell_type": "code",
      "source": [
        "income= int(input(\"請輸入今年收入淨額：\"))\n",
        "\n",
        "if income >= 2000000 :\n",
        "  income = income * 0.3\n",
        "  print( \"付稅金額：\" , income ,\"元\")\n",
        "elif income >= 1000000 :\n",
        "  income = income *0.21\n",
        "  print(\"付稅金額：\" , income ,\"元\")\n",
        "elif income >= 600000 :\n",
        "  income = income * 0.13\n",
        "  print(\"付税金額：\" , income , \"元\")\n",
        "elif income >= 300000 :\n",
        "  income = income * 0.06\n",
        "  print(\"付稅金額：\" , income , \"元\")\n",
        "else :\n",
        "  print(\"付稅金額：0 元\" )\n"
      ],
      "metadata": {
        "colab": {
          "base_uri": "https://localhost:8080/"
        },
        "id": "wONYZyB4A_RW",
        "outputId": "b5783f4d-94d4-45d9-d623-fc4f20ec3ef0"
      },
      "execution_count": 4,
      "outputs": [
        {
          "output_type": "stream",
          "name": "stdout",
          "text": [
            "請輸入今年收入淨額：1800000\n",
            "付稅金額： 378000.0 元\n"
          ]
        }
      ]
    },
    {
      "cell_type": "code",
      "source": [
        "cost = int(input(\"請輸入購物金額：\"))\n",
        "if cost >= 100000 :\n",
        "  cost = cost * 0.8\n",
        "  print(\"八折\" , cost)\n",
        "elif cost >= 50000 :\n",
        "  cost = cost * 0.85\n",
        "  print(\"八五折\" , cost)\n",
        "elif cost >= 30000 :\n",
        "  cost = cost * 0.9\n",
        "  print (\"九折\" , cost)\n",
        "elif cost >= 10000 :\n",
        "  cost = cost * 0.95\n",
        "  print (\"九五折\" , cost)\n",
        "else :\n",
        "  print (\"沒打折\" ,cost)\n"
      ],
      "metadata": {
        "colab": {
          "base_uri": "https://localhost:8080/"
        },
        "id": "5O6jEp0_0GKx",
        "outputId": "022a8da4-c7eb-4cd1-efcd-e1bf6f8d6402"
      },
      "execution_count": 8,
      "outputs": [
        {
          "output_type": "stream",
          "name": "stdout",
          "text": [
            "請輸入購物金額：5000\n",
            "沒打折 5000\n"
          ]
        }
      ]
    }
  ]
}